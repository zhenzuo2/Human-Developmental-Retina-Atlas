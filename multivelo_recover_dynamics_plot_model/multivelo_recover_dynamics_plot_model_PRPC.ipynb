{
 "cells": [
  {
   "cell_type": "code",
   "execution_count": null,
   "id": "29beedb8",
   "metadata": {},
   "outputs": [],
   "source": [
    "import os\n",
    "import numpy as np\n",
    "import pandas as pd\n",
    "import scanpy as sc\n",
    "import scvelo as scv\n",
    "import multivelo as mv\n",
    "import sys\n",
    "import matplotlib.pyplot as plt\n",
    "\n",
    "pd.options.display.max_columns = None\n",
    "scv.set_figure_params(dpi=600, dpi_save=600)"
   ]
  },
  {
   "cell_type": "code",
   "execution_count": null,
   "id": "c47a2058",
   "metadata": {},
   "outputs": [],
   "source": [
    "adata_result = scv.read(\n",
    "    \"/storage/singlecell/zz4/fetal_bash/results/multivelo_recover_dynamics_results/PRPC.h5ad\"\n",
    ")\n",
    "adata_result"
   ]
  },
  {
   "cell_type": "code",
   "execution_count": null,
   "id": "e5d15c19",
   "metadata": {},
   "outputs": [],
   "source": [
    "mv.pie_summary(adata_result)\n",
    "plt.savefig(\"/storage/singlecell/zz4/fetal/figures/PRPC_mv.pie_summary.svg\")"
   ]
  },
  {
   "cell_type": "code",
   "execution_count": null,
   "id": "819c08c2",
   "metadata": {},
   "outputs": [],
   "source": [
    "mv.switch_time_summary(adata_result)\n",
    "plt.xticks(\n",
    "    ticks=[0, 1, 2, 3],\n",
    "    labels=[\"Primed\", \"Coupled-on\", \"Decoupled\", \"Coupled-off\"],\n",
    "    rotation=45,\n",
    ")\n",
    "plt.savefig(\"/storage/singlecell/zz4/fetal/figures/PRPC_mv.switch_time_summary.svg\")"
   ]
  },
  {
   "cell_type": "code",
   "execution_count": null,
   "id": "26c180b7",
   "metadata": {},
   "outputs": [],
   "source": [
    "mv.likelihood_plot(adata_result)"
   ]
  },
  {
   "cell_type": "code",
   "execution_count": null,
   "id": "7eab352a",
   "metadata": {},
   "outputs": [],
   "source": [
    "mv.velocity_graph(adata_result)\n",
    "mv.latent_time(adata_result)"
   ]
  },
  {
   "cell_type": "code",
   "execution_count": null,
   "id": "076059b7",
   "metadata": {},
   "outputs": [],
   "source": [
    "adata_result.obs.to_csv(\n",
    "    \"/storage/singlecell/zz4/fetal_bash/results/multivelo_recover_dynamics_results/PRPC.obs.csv\"\n",
    ")\n",
    "adata_result.var.to_csv(\n",
    "    \"/storage/singlecell/zz4/fetal_bash/results/multivelo_recover_dynamics_results/PRPC.var.csv\"\n",
    ")"
   ]
  },
  {
   "cell_type": "code",
   "execution_count": null,
   "id": "953bdedb",
   "metadata": {},
   "outputs": [],
   "source": [
    "top_genes = adata_result.var[\"fit_likelihood\"].sort_values(ascending=False).index[:300]\n",
    "scv.pl.heatmap(\n",
    "    adata_result,\n",
    "    var_names=top_genes,\n",
    "    sortby=\"latent_time\",\n",
    "    col_color=\"latent_time\",\n",
    "    n_convolve=100,\n",
    "    save = \"scv.pl.heatmap_PRPC.png\"\n",
    ")"
   ]
  },
  {
   "cell_type": "code",
   "execution_count": null,
   "id": "6adf505f",
   "metadata": {},
   "outputs": [],
   "source": [
    "scv.pl.scatter(adata_result, color=\"latent_time\", color_map=\"gnuplot\", size=80)"
   ]
  },
  {
   "cell_type": "code",
   "execution_count": null,
   "id": "09c53693",
   "metadata": {},
   "outputs": [],
   "source": [
    "All = pd.read_csv(\n",
    "    \"/storage/singlecell/zz4/fetal_bash/results/PRPC_Pando/PRPC_modules_meta_All_feature_selection_FALSE.csv\"\n",
    ")\n",
    "target = list(set(All.target))\n",
    "tf = list(set(All.tf))"
   ]
  },
  {
   "cell_type": "code",
   "execution_count": null,
   "id": "46ea9dc3",
   "metadata": {},
   "outputs": [],
   "source": [
    "gene_list = tf"
   ]
  },
  {
   "cell_type": "code",
   "execution_count": null,
   "id": "7ee0beb2",
   "metadata": {
    "scrolled": false
   },
   "outputs": [],
   "source": [
    "for gene in [\"FOXP1\"]:\n",
    "    print(gene)\n",
    "    mv.dynamic_plot(adata_result, gene, color_by=\"state\", axis_on=False, frame_on=False)\n",
    "    plt.savefig(\n",
    "        \"/storage/singlecell/zz4/fetal/figures/mv.dynamic_plot_PRPC/\" + gene + \".png\"\n",
    "    )"
   ]
  },
  {
   "cell_type": "code",
   "execution_count": null,
   "id": "961f8fcb",
   "metadata": {},
   "outputs": [],
   "source": [
    "adata_result.layers['fit_t']"
   ]
  },
  {
   "cell_type": "code",
   "execution_count": null,
   "id": "dc641f95",
   "metadata": {},
   "outputs": [],
   "source": [
    "mv.dynamic_plot(adata_result, \"NFIX\", color_by=\"state\", axis_on=False, frame_on=False)"
   ]
  },
  {
   "cell_type": "code",
   "execution_count": null,
   "id": "83d33b28",
   "metadata": {},
   "outputs": [],
   "source": [
    "mv.dynamic_plot(adata_result, \"MEIS1\", color_by=\"state\", axis_on=False, frame_on=False)"
   ]
  },
  {
   "cell_type": "code",
   "execution_count": null,
   "id": "e0484a8a",
   "metadata": {},
   "outputs": [],
   "source": [
    "scv.pl.umap(\n",
    "    adata_result,\n",
    "    color=\"ZNF90\",\n",
    "    vmax=3,\n",
    "    color_map=\"viridis\",\n",
    ")"
   ]
  },
  {
   "cell_type": "code",
   "execution_count": null,
   "id": "1b0e0ef3",
   "metadata": {},
   "outputs": [],
   "source": [
    "adata = scv.read(\n",
    "    \"/storage/singlecell/zz4/fetal_bash/results/multivelo_recover_dynamics_run_umap_PRPC/adata_umap.h5ad\"\n",
    ")\n",
    "sc.pp.normalize_total(adata,layer=\"spliced\")\n",
    "sc.pp.normalize_total(adata,layer=\"unspliced\")"
   ]
  },
  {
   "cell_type": "code",
   "execution_count": null,
   "id": "921a6383",
   "metadata": {},
   "outputs": [],
   "source": [
    "scv.pl.umap(\n",
    "    adata_result,\n",
    "    color=\"FOXP1\",\n",
    "    layer=\"ATAC\",\n",
    "    vmax = 2,\n",
    "    save = \"FOXP1ATAC.svg\"\n",
    ")"
   ]
  },
  {
   "cell_type": "code",
   "execution_count": null,
   "id": "a1f50b28",
   "metadata": {},
   "outputs": [],
   "source": [
    "scv.pl.umap(adata_result, color=\"FOXP1\", layer=\"unspliced\", save=\"FOXP1unspliced.svg\",vmin = 2,vmax = 15)"
   ]
  },
  {
   "cell_type": "code",
   "execution_count": null,
   "id": "a3ca837e",
   "metadata": {},
   "outputs": [],
   "source": [
    "scv.pl.umap(adata_result, color=\"FOXP1\", layer=\"spliced\", save=\"FOXP1spliced.svg\",vmax = 2,vmin = 0)"
   ]
  },
  {
   "cell_type": "code",
   "execution_count": null,
   "id": "fd8fa0da",
   "metadata": {},
   "outputs": [],
   "source": [
    "mv.velocity_embedding_stream(\n",
    "    adata_result, basis=\"umap\", color=\"velo_s_norm_pseudotime\", cmap=\"gnuplot\"\n",
    ")"
   ]
  },
  {
   "cell_type": "code",
   "execution_count": null,
   "id": "26e5bcde",
   "metadata": {},
   "outputs": [],
   "source": [
    "mv.velocity_embedding_stream(\n",
    "    adata_result, basis=\"umap\", color=\"latent_time\", cmap=\"gnuplot\",save = \"PRPClatenttime.svg\"\n",
    ")"
   ]
  },
  {
   "cell_type": "code",
   "execution_count": null,
   "id": "88b2f94d",
   "metadata": {},
   "outputs": [],
   "source": [
    "adata = sc.read(\n",
    "    \"/storage/singlecell/zz4/fetal_bash/results/merged_h5ad/merged_raw_filtered_umap_10000_major_sub_class.h5ad\"\n",
    ")\n",
    "sc.pp.normalize_total(adata, target_sum=1e4)\n",
    "sc.pp.log1p(adata)"
   ]
  },
  {
   "cell_type": "code",
   "execution_count": null,
   "id": "d113b6e9",
   "metadata": {},
   "outputs": [],
   "source": [
    "adata"
   ]
  },
  {
   "cell_type": "code",
   "execution_count": null,
   "id": "fa3e77bf",
   "metadata": {},
   "outputs": [],
   "source": [
    "scv.pl.umap(adata, color=\"ESRRG\")"
   ]
  },
  {
   "cell_type": "code",
   "execution_count": null,
   "id": "1a697938",
   "metadata": {},
   "outputs": [],
   "source": [
    "scv.pl.umap(adata, color=\"E2F2\")"
   ]
  }
 ],
 "metadata": {
  "kernelspec": {
   "display_name": "Python 3",
   "language": "python",
   "name": "python3"
  },
  "language_info": {
   "codemirror_mode": {
    "name": "ipython",
    "version": 3
   },
   "file_extension": ".py",
   "mimetype": "text/x-python",
   "name": "python",
   "nbconvert_exporter": "python",
   "pygments_lexer": "ipython3",
   "version": "3.11.1"
  },
  "vscode": {
   "interpreter": {
    "hash": "5c7b89af1651d0b8571dde13640ecdccf7d5a6204171d6ab33e7c296e100e08a"
   }
  }
 },
 "nbformat": 4,
 "nbformat_minor": 5
}
