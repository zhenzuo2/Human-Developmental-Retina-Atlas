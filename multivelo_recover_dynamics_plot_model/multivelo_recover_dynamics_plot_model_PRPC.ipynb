{
 "cells": [
  {
   "cell_type": "code",
   "execution_count": null,
   "id": "29beedb8",
   "metadata": {},
   "outputs": [],
   "source": [
    "import os\n",
    "import numpy as np\n",
    "import pandas as pd\n",
    "import scanpy as sc\n",
    "import scvelo as scv\n",
    "import multivelo as mv\n",
    "import sys\n",
    "import matplotlib.pyplot as plt\n",
    "\n",
    "pd.options.display.max_columns = None\n",
    "scv.set_figure_params(dpi=600, dpi_save=600)"
   ]
  },
  {
   "cell_type": "code",
   "execution_count": null,
   "id": "c47a2058",
   "metadata": {},
   "outputs": [],
   "source": [
    "adata_result = scv.read(\n",
    "    \"/storage/singlecell/zz4/fetal_bash/results/multivelo_recover_dynamics_results/PRPC.h5ad\"\n",
    ")\n",
    "adata_result"
   ]
  },
  {
   "cell_type": "code",
   "execution_count": null,
   "id": "e5d15c19",
   "metadata": {},
   "outputs": [],
   "source": [
    "mv.pie_summary(adata_result)\n",
    "plt.savefig(\"/storage/singlecell/zz4/fetal/figures/PRPC_mv.pie_summary.svg\")"
   ]
  },
  {
   "cell_type": "code",
   "execution_count": null,
   "id": "819c08c2",
   "metadata": {},
   "outputs": [],
   "source": [
    "mv.switch_time_summary(adata_result)\n",
    "plt.xticks(\n",
    "    ticks=[0, 1, 2, 3],\n",
    "    labels=[\"Primed\", \"Coupled-on\", \"Decoupled\", \"Coupled-off\"],\n",
    "    rotation=45,\n",
    ")\n",
    "plt.savefig(\"/storage/singlecell/zz4/fetal/figures/PRPC_mv.switch_time_summary.svg\")"
   ]
  },
  {
   "cell_type": "code",
   "execution_count": null,
   "id": "26c180b7",
   "metadata": {},
   "outputs": [],
   "source": [
    "mv.likelihood_plot(adata_result)"
   ]
  },
  {
   "cell_type": "code",
   "execution_count": null,
   "id": "7eab352a",
   "metadata": {},
   "outputs": [],
   "source": [
    "mv.velocity_graph(adata_result)\n",
    "mv.latent_time(adata_result)"
   ]
  },
  {
   "cell_type": "code",
   "execution_count": null,
   "id": "076059b7",
   "metadata": {},
   "outputs": [],
   "source": [
    "adata_result.obs.to_csv(\n",
    "    \"/storage/singlecell/zz4/fetal_bash/results/multivelo_recover_dynamics_results/PRPC.obs.csv\"\n",
    ")\n",
    "adata_result.var.to_csv(\n",
    "    \"/storage/singlecell/zz4/fetal_bash/results/multivelo_recover_dynamics_results/PRPC.var.csv\"\n",
    ")"
   ]
  },
  {
   "cell_type": "code",
   "execution_count": null,
   "id": "953bdedb",
   "metadata": {},
   "outputs": [],
   "source": [
    "top_genes = adata_result.var[\"fit_likelihood\"].sort_values(ascending=False).index[:300]\n",
    "scv.pl.heatmap(\n",
    "    adata_result,\n",
    "    var_names=top_genes,\n",
    "    sortby=\"latent_time\",\n",
    "    col_color=\"latent_time\",\n",
    "    n_convolve=100,\n",
    "    save = \"scv.pl.heatmap_PRPC.png\"\n",
    ")"
   ]
  },
  {
   "cell_type": "code",
   "execution_count": null,
   "id": "6adf505f",
   "metadata": {},
   "outputs": [],
   "source": [
    "scv.pl.scatter(adata_result, color=\"latent_time\", color_map=\"gnuplot\", size=80)"
   ]
  },
  {
   "cell_type": "code",
   "execution_count": null,
   "id": "536437b5",
   "metadata": {},
   "outputs": [],
   "source": [
    "mv.velocity_embedding_stream(adata_result, basis='umap', color='latent_time',save = \"velocity_embedding_stream_PRPC.svg\")"
   ]
  }
 ],
 "metadata": {
  "kernelspec": {
   "display_name": "Python 3",
   "language": "python",
   "name": "python3"
  },
  "language_info": {
   "codemirror_mode": {
    "name": "ipython",
    "version": 3
   },
   "file_extension": ".py",
   "mimetype": "text/x-python",
   "name": "python",
   "nbconvert_exporter": "python",
   "pygments_lexer": "ipython3",
   "version": "3.11.1"
  },
  "vscode": {
   "interpreter": {
    "hash": "5c7b89af1651d0b8571dde13640ecdccf7d5a6204171d6ab33e7c296e100e08a"
   }
  }
 },
 "nbformat": 4,
 "nbformat_minor": 5
}
