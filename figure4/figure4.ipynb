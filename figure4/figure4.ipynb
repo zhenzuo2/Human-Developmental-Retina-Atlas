{
 "cells": [
  {
   "cell_type": "code",
   "execution_count": null,
   "id": "a14df11d",
   "metadata": {},
   "outputs": [],
   "source": [
    "import scvelo as scv\n",
    "import scanpy as sc\n",
    "import pandas as pd\n",
    "import numpy as np\n",
    "\n",
    "sc.set_figure_params(scanpy=True, dpi=600)"
   ]
  },
  {
   "cell_type": "code",
   "execution_count": null,
   "id": "25c10dea",
   "metadata": {},
   "outputs": [],
   "source": [
    "NRPC = scv.read(\"/storage/singlecell/zz4/fetal_bash/results/NRPC_fate/NRPC_fate.h5ad\")"
   ]
  },
  {
   "cell_type": "code",
   "execution_count": null,
   "id": "002d787e",
   "metadata": {},
   "outputs": [],
   "source": [
    "sc.pl.umap(NRPC, color=\"leiden\", legend_loc=\"on data\")"
   ]
  },
  {
   "cell_type": "code",
   "execution_count": null,
   "id": "0e869f35",
   "metadata": {},
   "outputs": [],
   "source": [
    "NRPC.obs['terminal_state_validated'] = \"\""
   ]
  },
  {
   "cell_type": "code",
   "execution_count": null,
   "id": "b29f42e5",
   "metadata": {},
   "outputs": [],
   "source": [
    "AC = pd.read_csv(\"/storage/singlecell/zz4/fetal_bash/results/cell_annotation_results/NRPC_AC.csv\")\n",
    "NRPC.obs.loc[NRPC.obs.index.isin(AC[\"Unnamed: 0\"]), \"terminal_state_validated\"] = \"AC\""
   ]
  },
  {
   "cell_type": "code",
   "execution_count": null,
   "id": "605cd7df",
   "metadata": {},
   "outputs": [],
   "source": [
    "BC = pd.read_csv(\"/storage/singlecell/zz4/fetal_bash/results/cell_annotation_results/NRPC_BC.csv\")\n",
    "NRPC.obs.loc[NRPC.obs.index.isin(BC[\"Unnamed: 0\"]), \"terminal_state_validated\"] = \"BC\""
   ]
  },
  {
   "cell_type": "code",
   "execution_count": null,
   "id": "b27ac83c",
   "metadata": {},
   "outputs": [],
   "source": [
    "HC = pd.read_csv(\"/storage/singlecell/zz4/fetal_bash/results/cell_annotation_results/NRPC_HC.csv\")\n",
    "NRPC.obs.loc[NRPC.obs.index.isin(HC[\"Unnamed: 0\"]), \"terminal_state_validated\"] = \"HC\""
   ]
  },
  {
   "cell_type": "code",
   "execution_count": null,
   "id": "8fa96198",
   "metadata": {},
   "outputs": [],
   "source": [
    "RGC = pd.read_csv(\"/storage/singlecell/zz4/fetal_bash/results/cell_annotation_results/NRPC_RGC.csv\")\n",
    "NRPC.obs.loc[NRPC.obs.index.isin(RGC[\"Unnamed: 0\"]), \"terminal_state_validated\"] = \"RGC\""
   ]
  },
  {
   "cell_type": "code",
   "execution_count": null,
   "id": "3b13694f",
   "metadata": {},
   "outputs": [],
   "source": [
    "Rod = pd.read_csv(\"/storage/singlecell/zz4/fetal_bash/results/cell_annotation_results/NRPC_Rod.csv\")\n",
    "NRPC.obs.loc[NRPC.obs.index.isin(Rod[\"Unnamed: 0\"]), \"terminal_state_validated\"] = \"Rod\""
   ]
  },
  {
   "cell_type": "code",
   "execution_count": null,
   "id": "771fc58b",
   "metadata": {},
   "outputs": [],
   "source": [
    "Cone = pd.read_csv(\"/storage/singlecell/zz4/fetal_bash/results/cell_annotation_results/NRPC_Cone.csv\")\n",
    "NRPC.obs.loc[NRPC.obs.index.isin(Cone[\"Unnamed: 0\"]), \"terminal_state_validated\"] = \"Cone\""
   ]
  },
  {
   "cell_type": "raw",
   "id": "9f9eaedb",
   "metadata": {},
   "source": [
    "NRPC.obs = NRPC.obs.mask(NRPC.obs == \"\")\n",
    "sc.pl.umap(\n",
    "    NRPC,\n",
    "    color=\"terminal_state_validated\",\n",
    "    legend_loc=\"on data\",\n",
    "    title=\"\",\n",
    "    save=\"terminal_state_validated.svg\",\n",
    ")"
   ]
  },
  {
   "cell_type": "code",
   "execution_count": null,
   "id": "4263b333",
   "metadata": {},
   "outputs": [],
   "source": [
    "import seaborn as sns\n",
    "import matplotlib.pyplot as plt\n",
    "\n",
    "df = NRPC.obs\n",
    "df = df.loc[df[\"terminal_state_validated\"] != \"\", :]\n",
    "sns.boxplot(\n",
    "    x=df[\"terminal_state_validated\"],\n",
    "    y=df[\"Days\"],\n",
    "    hue=df[\"Region\"],\n",
    "    order=[\"RGC\", \"HC\", \"Cone\", \"AC\", \"Rod\", \"BC\"],\n",
    ").set(xlabel=\"NRPC inferred fate\", ylabel=\"Fetal Days\")\n",
    "plt.legend(loc=\"lower right\", bbox_to_anchor=(1.5, 0), title=\"Region\")\n",
    "plt.savefig(\n",
    "    \"/storage/singlecell/zz4/fetal/figures/NRPC inferred fate_days.svg\",\n",
    "    bbox_inches=\"tight\",\n",
    ")"
   ]
  },
  {
   "cell_type": "code",
   "execution_count": null,
   "id": "94d194be",
   "metadata": {},
   "outputs": [],
   "source": [
    "sc.pl.umap(NRPC, color=\"terminal_state_validated\", legend_loc=\"on data\")"
   ]
  },
  {
   "cell_type": "code",
   "execution_count": null,
   "id": "fbe58d21",
   "metadata": {},
   "outputs": [],
   "source": [
    "import hotspot\n",
    "NRPC_ = NRPC[NRPC.obs[\"terminal_state_validated\"] != \"\"]\n",
    "sc.pp.calculate_qc_metrics(NRPC_, inplace=True)\n",
    "NRPC_.obsm[\"terminal_state_validated\"] = pd.get_dummies(\n",
    "    NRPC_.obs.terminal_state_validated\n",
    ").to_numpy()"
   ]
  },
  {
   "cell_type": "code",
   "execution_count": null,
   "id": "6c6da2aa",
   "metadata": {},
   "outputs": [],
   "source": [
    "NRPC_ = NRPC_[:, NRPC_.var.mean_counts > 0]"
   ]
  },
  {
   "cell_type": "code",
   "execution_count": null,
   "id": "76fa54fd",
   "metadata": {},
   "outputs": [],
   "source": [
    "NRPC_"
   ]
  },
  {
   "cell_type": "raw",
   "id": "86ddfc76",
   "metadata": {},
   "source": [
    "hs = hotspot.Hotspot(\n",
    "    NRPC_,\n",
    "    model=\"danb\",\n",
    "    latent_obsm_key=\"terminal_state_validated\",\n",
    "    umi_counts_obs_key=\"total_counts\",\n",
    ")\n",
    "\n",
    "hs.create_knn_graph(weighted_graph=False, n_neighbors=30)\n",
    "hs_results = hs.compute_autocorrelations(jobs=16)\n",
    "\n",
    "hs_genes = hs_results.loc[hs_results.FDR < 0.05].index  # Select genes\n",
    "local_correlations = hs.compute_local_correlations(\n",
    "    hs_genes, jobs=16\n",
    ")  # jobs for parallelization\n",
    "\n",
    "modules = hs.create_modules(min_gene_threshold=100, core_only=True, fdr_threshold=0.05)\n",
    "my_plot_local_correlations(hs)\n",
    "module_scores = hs.calculate_module_scores()\n",
    "\n",
    "import joblib\n",
    "local_correlations.to_csv(\n",
    "    \"/storage/singlecell/zz4/fetal_bash/results/NRPC_hotspot/NRPC_hs_local_correlations.csv\"\n",
    ")\n",
    "module_scores.to_csv(\n",
    "    \"/storage/singlecell/zz4/fetal_bash/results/NRPC_hotspot/NRPC_hs_module_scores.csv\"\n",
    ")\n",
    "joblib.dump(\n",
    "    hs, \"/storage/singlecell/zz4/fetal_bash/results/NRPC_hotspot/NPRC_hs.create_modules.pkl\"\n",
    ")\n",
    "joblib.dump(NRPC_, \"/storage/singlecell/zz4/fetal_bash/results/NRPC_hotspot/NPRC_hs.adata.pkl\")"
   ]
  },
  {
   "cell_type": "code",
   "execution_count": null,
   "id": "feaca459",
   "metadata": {},
   "outputs": [],
   "source": [
    "import hotspot\n",
    "import joblib\n",
    "hs = joblib.load(\"/storage/singlecell/zz4/fetal_bash/results/NRPC_hotspot/NPRC_hs.create_modules.pkl\")\n",
    "adata = joblib.load(\"/storage/singlecell/zz4/fetal_bash/results/NRPC_hotspot/NPRC_hs.adata.pkl\")"
   ]
  },
  {
   "cell_type": "code",
   "execution_count": null,
   "id": "477ab3dd",
   "metadata": {},
   "outputs": [],
   "source": [
    "modules = hs.create_modules(min_gene_threshold=250, core_only=True, fdr_threshold=0.05)\n",
    "hs.plot_local_correlations()\n",
    "plt.savefig('/storage/singlecell/zz4/fetal_bash/results/NRPC_hotspot/plot_local_correlations.svg')"
   ]
  },
  {
   "cell_type": "code",
   "execution_count": null,
   "id": "662fec00",
   "metadata": {},
   "outputs": [],
   "source": [
    "import scvelo as scv\n",
    "import plotly.express as px\n",
    "import scanpy as sc\n",
    "import hotspot\n",
    "import joblib\n",
    "import matplotlib.pyplot as plt\n",
    "import seaborn as sns\n",
    "import numpy as np\n",
    "import pandas as pd\n",
    "import os\n",
    "from scipy.cluster.hierarchy import leaves_list\n",
    "\n",
    "module_scores = hs.calculate_module_scores()\n",
    "\n",
    "adata.obs[\"Module1\"] = module_scores[1].values\n",
    "adata.obs[\"Module2\"] = module_scores[2].values\n",
    "adata.obs[\"Module3\"] = module_scores[3].values\n",
    "adata.obs[\"Module4\"] = module_scores[4].values\n",
    "adata.obs[\"Module5\"] = module_scores[5].values\n",
    "\n",
    "module_list = [\n",
    "    \"Module1\",\n",
    "    \"Module2\",\n",
    "    \"Module3\",\n",
    "    \"Module4\",\n",
    "    \"Module5\",\n",
    "]\n",
    "cols = [\n",
    "    \"#636EFA\",\n",
    "    \"#EF553B\",\n",
    "    \"#00CC96\",\n",
    "    \"#AB63FA\",\n",
    "    \"#FFA15A\",\n",
    "    \"#19D3F3\",\n",
    "    \"#FF6692\",\n",
    "    \"#B6E880\",\n",
    "    \"#FF97FF\",\n",
    "    \"#FECB52\",\n",
    "]\n",
    "for i in range(len(module_list)):\n",
    "    width = 1000\n",
    "    height = 1000\n",
    "    legend_size = 3\n",
    "    marker_size = 8\n",
    "    df = adata.obs.copy()\n",
    "    df[\"cell_label\"] = adata.obs.index.values\n",
    "    df[\"x\"] = adata.obsm[\"X_umap\"][:, 0]\n",
    "    df[\"y\"] = adata.obsm[\"X_umap\"][:, 1]\n",
    "    fig = px.scatter(\n",
    "        df,\n",
    "        x=\"x\",\n",
    "        y=\"y\",\n",
    "        color=module_list[i],\n",
    "        width=width,\n",
    "        height=height,\n",
    "        color_continuous_scale=[\"#BAB0AC\", cols[i]],\n",
    "        hover_data=[\"cell_label\"],\n",
    "        range_color=[2, 5],\n",
    "    )\n",
    "    fig.update_traces(mode=\"markers\", marker_size=marker_size)\n",
    "    fig.update_layout(showlegend=False)\n",
    "    fig.update_xaxes(showgrid=False)\n",
    "    fig.update_yaxes(showgrid=False)\n",
    "    fig.update_layout(yaxis_visible=False, yaxis_showticklabels=False)\n",
    "    fig.update_layout(xaxis_visible=False, xaxis_showticklabels=False)\n",
    "    fig.update_layout(\n",
    "        {\n",
    "            \"plot_bgcolor\": \"rgba(0, 0, 0, 0)\",\n",
    "            \"paper_bgcolor\": \"rgba(0, 0, 0, 0)\",\n",
    "        }\n",
    "    )\n",
    "    fig.update_layout(legend={\"title_text\": \"\"})\n",
    "    fig.update_layout(legend={\"itemsizing\": \"constant\"})\n",
    "    fig.update_layout(legend=dict(font=dict(size=legend_size)))\n",
    "    fig.write_image(\n",
    "        \"/storage/singlecell/zz4/fetal_bash/results/NRPC_hotspot/NRPC_gene_\"\n",
    "        + module_list[i]\n",
    "        + \".svg\"\n",
    "    )"
   ]
  },
  {
   "cell_type": "code",
   "execution_count": null,
   "id": "eac9a099",
   "metadata": {},
   "outputs": [],
   "source": [
    "module_scores"
   ]
  },
  {
   "cell_type": "code",
   "execution_count": null,
   "id": "c219c9dc",
   "metadata": {},
   "outputs": [],
   "source": [
    "module_scores[\"terminal_state_validated\"] = NRPC_.obs.loc[\n",
    "    module_scores.index, \"terminal_state_validated\"\n",
    "].replace({\"BC\": \"BC/Rod\", \"Rod\": \"BC/Rod\"})"
   ]
  },
  {
   "cell_type": "code",
   "execution_count": null,
   "id": "982392e9",
   "metadata": {},
   "outputs": [],
   "source": [
    "module_scores"
   ]
  },
  {
   "cell_type": "code",
   "execution_count": null,
   "id": "822be7f4",
   "metadata": {},
   "outputs": [],
   "source": [
    "module_scores.groupby('terminal_state_validated').mean()"
   ]
  },
  {
   "cell_type": "code",
   "execution_count": null,
   "id": "bb14f324",
   "metadata": {},
   "outputs": [],
   "source": [
    "import numpy as np\n",
    "import seaborn as sns\n",
    "import matplotlib.pylab as plt\n",
    "\n",
    "uniform_data = module_scores.groupby(\"terminal_state_validated\").mean()\n",
    "uniform_data = uniform_data[[3, 1, 5, 2, 4]].transpose()\n",
    "ax = sns.heatmap(\n",
    "    uniform_data, linewidth=0.5, cmap=\"viridis\", vmin=-5, vmax=10, annot=True\n",
    ")\n",
    "ax.set(xlabel=\"NRPC inferred fate\", ylabel=\"Gene modules\")\n",
    "plt.savefig(\n",
    "    \"/storage/singlecell/zz4/fetal_bash/results/NRPC_hotspot/module_score.svg\",\n",
    "    bbox_inches=\"tight\",\n",
    ")"
   ]
  },
  {
   "cell_type": "code",
   "execution_count": null,
   "id": "fcfbe69f",
   "metadata": {},
   "outputs": [],
   "source": [
    "TFs = pd.read_csv(\"/storage/singlecell/zz4/fetal_bash/data/TFsDatabaseExtract_v_1.01.csv\")"
   ]
  },
  {
   "cell_type": "code",
   "execution_count": null,
   "id": "6420322c",
   "metadata": {},
   "outputs": [],
   "source": [
    "TFs = TFs.loc[TFs['Is TF?'] == \"Yes\",]"
   ]
  },
  {
   "cell_type": "code",
   "execution_count": null,
   "id": "b50787fe",
   "metadata": {},
   "outputs": [],
   "source": [
    "NRPC_ = NRPC_[:, NRPC_.var.index.isin(TFs[\"HGNC symbol\"])]"
   ]
  },
  {
   "cell_type": "code",
   "execution_count": null,
   "id": "2ab8a1f9",
   "metadata": {},
   "outputs": [],
   "source": [
    "NRPC_"
   ]
  },
  {
   "cell_type": "code",
   "execution_count": null,
   "id": "657b0206",
   "metadata": {},
   "outputs": [],
   "source": [
    "sc.pp.normalize_total(NRPC_, target_sum=1e4)\n",
    "sc.pp.log1p(NRPC_)\n",
    "sc.tl.rank_genes_groups(NRPC_, groupby=\"terminal_state_validated\")"
   ]
  },
  {
   "cell_type": "code",
   "execution_count": null,
   "id": "7aecd4b2",
   "metadata": {},
   "outputs": [],
   "source": [
    "sc.pl.rank_genes_groups_dotplot(\n",
    "    NRPC_,\n",
    "    n_genes=10,\n",
    "    save=\"sc.pl.rank_genes_groups_dotplot.svg\",\n",
    ")"
   ]
  },
  {
   "cell_type": "code",
   "execution_count": null,
   "id": "5717982a",
   "metadata": {},
   "outputs": [],
   "source": []
  }
 ],
 "metadata": {
  "kernelspec": {
   "display_name": "Python 3 (ipykernel)",
   "language": "python",
   "name": "python3"
  },
  "language_info": {
   "codemirror_mode": {
    "name": "ipython",
    "version": 3
   },
   "file_extension": ".py",
   "mimetype": "text/x-python",
   "name": "python",
   "nbconvert_exporter": "python",
   "pygments_lexer": "ipython3",
   "version": "3.9.16"
  },
  "vscode": {
   "interpreter": {
    "hash": "b0fa6594d8f4cbf19f97940f81e996739fb7646882a419484c72d19e05852a7e"
   }
  }
 },
 "nbformat": 4,
 "nbformat_minor": 5
}
