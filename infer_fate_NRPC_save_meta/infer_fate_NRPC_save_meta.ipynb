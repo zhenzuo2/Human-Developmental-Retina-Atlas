{
 "cells": [
  {
   "cell_type": "code",
   "execution_count": null,
   "id": "a14df11d",
   "metadata": {},
   "outputs": [],
   "source": [
    "import scvelo as scv\n",
    "import scanpy as sc\n",
    "import pandas as pd\n",
    "sc.set_figure_params(scanpy=True, dpi=600)"
   ]
  },
  {
   "cell_type": "code",
   "execution_count": null,
   "id": "25c10dea",
   "metadata": {},
   "outputs": [],
   "source": [
    "adata = scv.read(\n",
    "    \"/storage/singlecell/zz4/fetal_bash/results/merged_h5ad_adult_annotated_umap/merged_h5ad_adult_annotated_umap_X_scANVI.h5ad\"\n",
    ")\n",
    "NRPC = scv.read(\"/storage/singlecell/zz4/fetal_bash/results/NRPC_fate/NRPC_fate.h5ad\")"
   ]
  },
  {
   "cell_type": "code",
   "execution_count": null,
   "id": "08b921ee",
   "metadata": {},
   "outputs": [],
   "source": [
    "sc.pp.normalize_total(adata, target_sum=1e6, exclude_highly_expressed=True)\n",
    "sc.pp.log1p(adata)"
   ]
  },
  {
   "cell_type": "code",
   "execution_count": null,
   "id": "002d787e",
   "metadata": {},
   "outputs": [],
   "source": [
    "sc.pl.umap(NRPC, color=\"leiden\", legend_loc=\"on data\")"
   ]
  },
  {
   "cell_type": "markdown",
   "id": "eaef94b9",
   "metadata": {},
   "source": [
    "# AC"
   ]
  },
  {
   "cell_type": "code",
   "execution_count": null,
   "id": "5769d091",
   "metadata": {
    "scrolled": false
   },
   "outputs": [],
   "source": [
    "sc.pl.umap(NRPC, color=\"AC\")\n",
    "adata.obs[\"temp\"] = adata.obs.index.isin(\n",
    "    NRPC[NRPC.obs.leiden.isin([\"15\",\"7\",\"12\",\"9\"])].obs.index\n",
    ").astype(str)\n",
    "sc.pl.umap(adata, color=\"temp\")"
   ]
  },
  {
   "cell_type": "code",
   "execution_count": null,
   "id": "634212e2",
   "metadata": {},
   "outputs": [],
   "source": [
    "sc.pl.umap(NRPC, color=\"PTF1A\", vmax=\"p95\", vmin=\"p0\")"
   ]
  },
  {
   "cell_type": "code",
   "execution_count": null,
   "id": "5100f3ca",
   "metadata": {},
   "outputs": [],
   "source": [
    "sc.pl.umap(NRPC, color=\"NEUROD4\", vmax=\"p95\", vmin=\"p0\")"
   ]
  },
  {
   "cell_type": "code",
   "execution_count": null,
   "id": "9d55e97c",
   "metadata": {},
   "outputs": [],
   "source": [
    "sc.pl.umap(NRPC, color=\"TFAP2A\", vmax=\"p95\", vmin=\"p0\")"
   ]
  },
  {
   "cell_type": "code",
   "execution_count": null,
   "id": "eca003ba",
   "metadata": {},
   "outputs": [],
   "source": [
    "sc.pl.umap(NRPC, color=\"TFAP2B\", vmax=\"p95\", vmin=\"p0\")"
   ]
  },
  {
   "cell_type": "code",
   "execution_count": null,
   "id": "17745b3e",
   "metadata": {},
   "outputs": [],
   "source": [
    "sc.pl.umap(NRPC, color=\"ZEB2\", vmax=\"p99\", vmin=\"p0\")"
   ]
  },
  {
   "cell_type": "code",
   "execution_count": null,
   "id": "1d851295",
   "metadata": {},
   "outputs": [],
   "source": [
    "pd.concat(\n",
    "    [\n",
    "        adata[NRPC[NRPC.obs.leiden.isin([\"15\", \"7\", \"12\", \"9\"])].obs.index].obs,\n",
    "        adata[adata.obs.scpred_prediction == \"AC\"].obs,\n",
    "    ]\n",
    ").to_csv(\n",
    "    \"/storage/singlecell/zz4/fetal_bash/results/merged_annotation_adult_with_label/NRPC_AC.csv\"\n",
    ")"
   ]
  },
  {
   "cell_type": "markdown",
   "id": "d0db7edd",
   "metadata": {},
   "source": [
    "# HC"
   ]
  },
  {
   "cell_type": "code",
   "execution_count": null,
   "id": "b6084479",
   "metadata": {},
   "outputs": [],
   "source": [
    "sc.pl.umap(NRPC, color=\"HC\")\n",
    "adata.obs[\"temp\"] = adata.obs.index.isin(\n",
    "    NRPC[NRPC.obs.leiden.isin([\"6\"])].obs.index\n",
    ").astype(str)\n",
    "sc.pl.umap(adata, color=\"temp\")"
   ]
  },
  {
   "cell_type": "code",
   "execution_count": null,
   "id": "ae51d31b",
   "metadata": {},
   "outputs": [],
   "source": [
    "sc.pl.umap(NRPC, color=\"PROX1\", vmax=\"p95\", vmin=\"p0\")"
   ]
  },
  {
   "cell_type": "code",
   "execution_count": null,
   "id": "02d47c87",
   "metadata": {},
   "outputs": [],
   "source": [
    "sc.pl.umap(NRPC, color=\"LHX1\", vmax=\"p99\", vmin=\"p0\")"
   ]
  },
  {
   "cell_type": "code",
   "execution_count": null,
   "id": "a761dc01",
   "metadata": {},
   "outputs": [],
   "source": [
    "pd.concat(\n",
    "    [\n",
    "        adata[NRPC[NRPC.obs.leiden.isin([\"6\"])].obs.index].obs,\n",
    "        adata[adata.obs.scpred_prediction == \"HC\"].obs,\n",
    "    ]\n",
    ").to_csv(\n",
    "    \"/storage/singlecell/zz4/fetal_bash/results/merged_annotation_adult_with_label/NRPC_HC.csv\"\n",
    ")"
   ]
  },
  {
   "cell_type": "markdown",
   "id": "7d2e9765",
   "metadata": {},
   "source": [
    "# BC"
   ]
  },
  {
   "cell_type": "code",
   "execution_count": null,
   "id": "3db4b047",
   "metadata": {
    "scrolled": false
   },
   "outputs": [],
   "source": [
    "sc.pl.umap(NRPC, color=\"BC\")\n",
    "adata.obs[\"temp\"] = adata.obs.index.isin(\n",
    "    NRPC[NRPC.obs.leiden.isin([\"4\", \"20\", \"17\"])].obs.index\n",
    ").astype(str)\n",
    "sc.pl.umap(adata, color=\"temp\")"
   ]
  },
  {
   "cell_type": "code",
   "execution_count": null,
   "id": "7b17ef11",
   "metadata": {},
   "outputs": [],
   "source": [
    "sc.pl.umap(NRPC, color=\"OTX2\", vmax=\"p99\", vmin=\"p0\")"
   ]
  },
  {
   "cell_type": "code",
   "execution_count": null,
   "id": "1ef49248",
   "metadata": {},
   "outputs": [],
   "source": [
    "sc.pl.umap(NRPC, color=\"VSX2\", vmax=\"p99\", vmin=\"p0\")"
   ]
  },
  {
   "cell_type": "code",
   "execution_count": null,
   "id": "eea97cd4",
   "metadata": {},
   "outputs": [],
   "source": [
    "sc.pl.umap(NRPC, color=\"ISL1\", vmax=\"p99\", vmin=\"p0\")"
   ]
  },
  {
   "cell_type": "code",
   "execution_count": null,
   "id": "86466273",
   "metadata": {},
   "outputs": [],
   "source": [
    "sc.pl.umap(NRPC, color=\"IRX6\", vmax=\"p99\", vmin=\"p0\")"
   ]
  },
  {
   "cell_type": "code",
   "execution_count": null,
   "id": "4804859a",
   "metadata": {},
   "outputs": [],
   "source": [
    "sc.pl.umap(NRPC, color=\"GSG1\", vmax=\"p99\", vmin=\"p0\")"
   ]
  },
  {
   "cell_type": "code",
   "execution_count": null,
   "id": "f923403c",
   "metadata": {},
   "outputs": [],
   "source": [
    "sc.pl.umap(NRPC, color=\"TRNP1\", vmax=\"p99\", vmin=\"p0\")"
   ]
  },
  {
   "cell_type": "code",
   "execution_count": null,
   "id": "036c2a62",
   "metadata": {},
   "outputs": [],
   "source": [
    "sc.pl.umap(NRPC, color=\"TMEM215\", vmax=\"p99\", vmin=\"p0\")"
   ]
  },
  {
   "cell_type": "code",
   "execution_count": null,
   "id": "800f4fc2",
   "metadata": {},
   "outputs": [],
   "source": [
    "sc.pl.umap(NRPC, color=\"BHLHE22\", vmax=\"p99\", vmin=\"p0\")"
   ]
  },
  {
   "cell_type": "code",
   "execution_count": null,
   "id": "724166c6",
   "metadata": {},
   "outputs": [],
   "source": [
    "sc.pl.umap(NRPC, color=\"FEZF2\", vmax=\"p99\", vmin=\"p0\")"
   ]
  },
  {
   "cell_type": "code",
   "execution_count": null,
   "id": "75b85791",
   "metadata": {},
   "outputs": [],
   "source": [
    "pd.concat(\n",
    "    [\n",
    "        adata[NRPC[NRPC.obs.leiden.isin([\"4\", \"20\", \"17\"])].obs.index].obs,\n",
    "        adata[adata.obs.scpred_prediction == \"BC\"].obs,\n",
    "    ]\n",
    ").to_csv(\n",
    "    \"/storage/singlecell/zz4/fetal_bash/results/merged_annotation_adult_with_label/NRPC_BC.csv\"\n",
    ")"
   ]
  },
  {
   "cell_type": "markdown",
   "id": "2885d0f4",
   "metadata": {},
   "source": [
    "# Rod"
   ]
  },
  {
   "cell_type": "code",
   "execution_count": null,
   "id": "36b83647",
   "metadata": {
    "scrolled": false
   },
   "outputs": [],
   "source": [
    "sc.pl.umap(NRPC, color=\"Rod\")\n",
    "adata.obs[\"temp\"] = adata.obs.index.isin(\n",
    "    NRPC[NRPC.obs.leiden.isin([\"0\"])].obs.index\n",
    ").astype(str)\n",
    "sc.pl.umap(adata, color=\"temp\")"
   ]
  },
  {
   "cell_type": "code",
   "execution_count": null,
   "id": "adde92ff",
   "metadata": {},
   "outputs": [],
   "source": [
    "sc.pl.umap(NRPC, color=\"NR2E3\", vmax=\"p99\", vmin=\"p0\")"
   ]
  },
  {
   "cell_type": "code",
   "execution_count": null,
   "id": "f58aa820",
   "metadata": {},
   "outputs": [],
   "source": [
    "pd.concat(\n",
    "    [\n",
    "        adata[NRPC[NRPC.obs.leiden.isin([\"0\"])].obs.index].obs,\n",
    "        adata[adata.obs.scpred_prediction == \"Rod\"].obs,\n",
    "    ]\n",
    ").to_csv(\n",
    "    \"/storage/singlecell/zz4/fetal_bash/results/merged_annotation_adult_with_label/NRPC_Rod.csv\"\n",
    ")"
   ]
  },
  {
   "cell_type": "markdown",
   "id": "239651d5",
   "metadata": {},
   "source": [
    "# Cone"
   ]
  },
  {
   "cell_type": "code",
   "execution_count": null,
   "id": "97a78626",
   "metadata": {
    "scrolled": false
   },
   "outputs": [],
   "source": [
    "sc.pl.umap(NRPC, color=\"Cone\")\n",
    "adata.obs[\"temp\"] = adata.obs.index.isin(\n",
    "    NRPC[NRPC.obs.leiden.isin([\"3\"])].obs.index\n",
    ").astype(str)\n",
    "sc.pl.umap(adata, color=\"temp\")"
   ]
  },
  {
   "cell_type": "code",
   "execution_count": null,
   "id": "d94183b2",
   "metadata": {
    "scrolled": false
   },
   "outputs": [],
   "source": [
    "sc.pl.umap(NRPC, color=\"OTX2\", vmax=\"p99\", vmin=\"p0\")"
   ]
  },
  {
   "cell_type": "code",
   "execution_count": null,
   "id": "cfeca9ac",
   "metadata": {},
   "outputs": [],
   "source": [
    "sc.pl.umap(NRPC, color=\"CRX\", vmax=\"p99\", vmin=\"p0\")"
   ]
  },
  {
   "cell_type": "code",
   "execution_count": null,
   "id": "566f1765",
   "metadata": {},
   "outputs": [],
   "source": [
    "sc.pl.umap(NRPC, color=\"PRDM1\", vmax=\"p99\", vmin=\"p0\")"
   ]
  },
  {
   "cell_type": "code",
   "execution_count": null,
   "id": "f3b54b78",
   "metadata": {},
   "outputs": [],
   "source": [
    "pd.concat(\n",
    "    [\n",
    "        adata[NRPC[NRPC.obs.leiden.isin([\"3\"])].obs.index].obs,\n",
    "        adata[adata.obs.scpred_prediction == \"Cone\"].obs,\n",
    "    ]\n",
    ").to_csv(\n",
    "    \"/storage/singlecell/zz4/fetal_bash/results/merged_annotation_adult_with_label/NRPC_Cone.csv\"\n",
    ")"
   ]
  },
  {
   "cell_type": "markdown",
   "id": "8f5b81b2",
   "metadata": {},
   "source": [
    "# RGC"
   ]
  },
  {
   "cell_type": "code",
   "execution_count": null,
   "id": "167f84d4",
   "metadata": {
    "scrolled": false
   },
   "outputs": [],
   "source": [
    "sc.pl.umap(NRPC, color=\"RGC\")\n",
    "adata.obs[\"temp\"] = adata.obs.index.isin(\n",
    "    NRPC[NRPC.obs.leiden.isin([\"19\"])].obs.index\n",
    ").astype(str)\n",
    "sc.pl.umap(adata, color=\"temp\")"
   ]
  },
  {
   "cell_type": "code",
   "execution_count": null,
   "id": "52a1bd1b",
   "metadata": {},
   "outputs": [],
   "source": [
    "sc.pl.umap(NRPC, color=\"ATOH7\", vmax=\"p99\", vmin=\"p0\")"
   ]
  },
  {
   "cell_type": "code",
   "execution_count": null,
   "id": "de89eaaf",
   "metadata": {},
   "outputs": [],
   "source": [
    "sc.pl.umap(NRPC, color=\"POU4F2\", vmax=\"p99\", vmin=\"p0\")"
   ]
  },
  {
   "cell_type": "code",
   "execution_count": null,
   "id": "66a0092a",
   "metadata": {},
   "outputs": [],
   "source": [
    "pd.concat(\n",
    "    [\n",
    "        adata[NRPC[NRPC.obs.leiden.isin([\"19\"])].obs.index].obs,\n",
    "        adata[adata.obs.scpred_prediction == \"RGC\"].obs,\n",
    "    ]\n",
    ").to_csv(\n",
    "    \"/storage/singlecell/zz4/fetal_bash/results/merged_annotation_adult_with_label/NRPC_RGC.csv\"\n",
    ")"
   ]
  }
 ],
 "metadata": {
  "kernelspec": {
   "display_name": "Python 3",
   "language": "python",
   "name": "python3"
  },
  "language_info": {
   "codemirror_mode": {
    "name": "ipython",
    "version": 3
   },
   "file_extension": ".py",
   "mimetype": "text/x-python",
   "name": "python",
   "nbconvert_exporter": "python",
   "pygments_lexer": "ipython3",
   "version": "3.10.6 (main, Aug 11 2022, 13:36:31) [Clang 13.1.6 (clang-1316.0.21.2.5)]"
  },
  "vscode": {
   "interpreter": {
    "hash": "b0fa6594d8f4cbf19f97940f81e996739fb7646882a419484c72d19e05852a7e"
   }
  }
 },
 "nbformat": 4,
 "nbformat_minor": 5
}
