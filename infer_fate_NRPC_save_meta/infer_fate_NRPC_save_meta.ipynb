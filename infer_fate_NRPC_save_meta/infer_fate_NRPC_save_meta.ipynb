{
 "cells": [
  {
   "cell_type": "code",
   "execution_count": null,
   "id": "a14df11d",
   "metadata": {},
   "outputs": [],
   "source": [
    "import scvelo as scv\n",
    "import scanpy as sc\n",
    "import pandas as pd\n",
    "import numpy as np\n",
    "\n",
    "sc.set_figure_params(scanpy=True, dpi=600)\n",
    "colors = [\n",
    "    \"#440154FF\",\n",
    "    \"#450558FF\",\n",
    "    \"#46085CFF\",\n",
    "    \"#470D60FF\",\n",
    "    \"#471063FF\",\n",
    "    \"#481467FF\",\n",
    "    \"#481769FF\",\n",
    "    \"#481B6DFF\",\n",
    "    \"#481E70FF\",\n",
    "    \"#482173FF\",\n",
    "    \"#482576FF\",\n",
    "    \"#482878FF\",\n",
    "    \"#472C7AFF\",\n",
    "    \"#472F7CFF\",\n",
    "    \"#46327EFF\",\n",
    "    \"#453581FF\",\n",
    "    \"#453882FF\",\n",
    "    \"#443B84FF\",\n",
    "    \"#433E85FF\",\n",
    "    \"#424186FF\",\n",
    "    \"#404587FF\",\n",
    "    \"#3F4788FF\",\n",
    "    \"#3E4A89FF\",\n",
    "    \"#3D4D8AFF\",\n",
    "    \"#3C508BFF\",\n",
    "    \"#3B528BFF\",\n",
    "    \"#39558CFF\",\n",
    "    \"#38598CFF\",\n",
    "    \"#375B8DFF\",\n",
    "    \"#355E8DFF\",\n",
    "    \"#34608DFF\",\n",
    "    \"#33638DFF\",\n",
    "    \"#32658EFF\",\n",
    "    \"#31688EFF\",\n",
    "    \"#2F6B8EFF\",\n",
    "    \"#2E6D8EFF\",\n",
    "    \"#2D708EFF\",\n",
    "    \"#2C718EFF\",\n",
    "    \"#2B748EFF\",\n",
    "    \"#2A768EFF\",\n",
    "    \"#29798EFF\",\n",
    "    \"#287C8EFF\",\n",
    "    \"#277E8EFF\",\n",
    "    \"#26818EFF\",\n",
    "    \"#26828EFF\",\n",
    "    \"#25858EFF\",\n",
    "    \"#24878EFF\",\n",
    "    \"#238A8DFF\",\n",
    "    \"#228D8DFF\",\n",
    "    \"#218F8DFF\",\n",
    "    \"#20928CFF\",\n",
    "    \"#20938CFF\",\n",
    "    \"#1F968BFF\",\n",
    "    \"#1F998AFF\",\n",
    "    \"#1E9B8AFF\",\n",
    "    \"#1F9E89FF\",\n",
    "    \"#1FA088FF\",\n",
    "    \"#1FA287FF\",\n",
    "    \"#20A486FF\",\n",
    "    \"#22A785FF\",\n",
    "    \"#24AA83FF\",\n",
    "    \"#25AC82FF\",\n",
    "    \"#28AE80FF\",\n",
    "    \"#2BB07FFF\",\n",
    "    \"#2EB37CFF\",\n",
    "    \"#31B67BFF\",\n",
    "    \"#35B779FF\",\n",
    "    \"#39BA76FF\",\n",
    "    \"#3DBC74FF\",\n",
    "    \"#41BE71FF\",\n",
    "    \"#47C06FFF\",\n",
    "    \"#4CC26CFF\",\n",
    "    \"#51C56AFF\",\n",
    "    \"#56C667FF\",\n",
    "    \"#5BC863FF\",\n",
    "    \"#61CA60FF\",\n",
    "    \"#67CC5CFF\",\n",
    "    \"#6DCD59FF\",\n",
    "    \"#73D056FF\",\n",
    "    \"#78D152FF\",\n",
    "    \"#7FD34EFF\",\n",
    "    \"#85D54AFF\",\n",
    "    \"#8CD646FF\",\n",
    "    \"#92D741FF\",\n",
    "    \"#99D83DFF\",\n",
    "    \"#A0DA39FF\",\n",
    "    \"#A7DB35FF\",\n",
    "    \"#ADDC30FF\",\n",
    "    \"#B4DE2CFF\",\n",
    "    \"#BBDE28FF\",\n",
    "    \"#C2DF23FF\",\n",
    "    \"#C9E020FF\",\n",
    "    \"#D0E11CFF\",\n",
    "    \"#D7E219FF\",\n",
    "    \"#DDE318FF\",\n",
    "    \"#E4E419FF\",\n",
    "    \"#EBE51AFF\",\n",
    "    \"#F1E51DFF\",\n",
    "    \"#F7E620FF\",\n",
    "    # \"#FDE725FF\",\n",
    "    \"#5A5A5A\",\n",
    "]"
   ]
  },
  {
   "cell_type": "code",
   "execution_count": null,
   "id": "25c10dea",
   "metadata": {},
   "outputs": [],
   "source": [
    "adata = scv.read(\n",
    "    \"/storage/singlecell/zz4/fetal_bash/results/merged_h5ad/merged_raw_filtered_umap_10000_major_sub_class.h5ad\"\n",
    ")\n",
    "NRPC = scv.read(\"/storage/singlecell/zz4/fetal_bash/results/NRPC_fate/NRPC_fate.h5ad\")\n",
    "adata.obs[\"scpred_prediction\"] = adata.obs.majorclass.replace(\n",
    "    {\n",
    "        \"AC Precursor\": \"AC\",\n",
    "        \"BC Precursor\": \"BC\",\n",
    "        \"Cone Precursor\": \"Cone\",\n",
    "        \"GABAergic\": \"AC\",\n",
    "        \"Glycinergic\": \"AC\",\n",
    "        \"HC0\": \"HC\",\n",
    "        \"HC1\": \"HC\",\n",
    "        \"MG\": \"MG\",\n",
    "        \"ML_Cone\": \"Cone\",\n",
    "        \"NRPC\": \"RPC\",\n",
    "        \"OFF-BC\": \"BC\",\n",
    "        \"OFF_MGC\": \"RGC\",\n",
    "        \"ON-BC\": \"BC\",\n",
    "        \"ON_MGC\": \"RGC\",\n",
    "        \"PRPC\": \"RPC\",\n",
    "        \"RBC\": \"BC\",\n",
    "        \"RGC Precursor\": \"RGC\",\n",
    "        \"Rod\": \"Rod\",\n",
    "        \"Rod Precursor\": \"Rod\",\n",
    "        \"SACs\": \"AC\",\n",
    "        \"S_Cone\": \"Cone\",\n",
    "        \"dual ACs\": \"AC\",\n",
    "    }\n",
    ")"
   ]
  },
  {
   "cell_type": "code",
   "execution_count": null,
   "id": "08b921ee",
   "metadata": {},
   "outputs": [],
   "source": [
    "sc.pp.normalize_total(adata, target_sum=1e6, exclude_highly_expressed=True)\n",
    "sc.pp.log1p(adata)"
   ]
  },
  {
   "cell_type": "code",
   "execution_count": null,
   "id": "002d787e",
   "metadata": {},
   "outputs": [],
   "source": [
    "sc.pl.umap(NRPC, color=\"leiden\", legend_loc=\"on data\")"
   ]
  },
  {
   "cell_type": "markdown",
   "id": "eaef94b9",
   "metadata": {},
   "source": [
    "# AC"
   ]
  },
  {
   "cell_type": "code",
   "execution_count": null,
   "id": "5769d091",
   "metadata": {
    "scrolled": false
   },
   "outputs": [],
   "source": [
    "sc.pl.umap(NRPC, color=\"AC\")"
   ]
  },
  {
   "cell_type": "code",
   "execution_count": null,
   "id": "a592762f",
   "metadata": {},
   "outputs": [],
   "source": [
    "clusters = [\"3\", \"9\"]\n",
    "adata.obs[\"temp\"] = np.nan\n",
    "adata.obs.loc[NRPC.obs[NRPC.obs.leiden.isin(clusters)].index, \"temp\"] = NRPC.obs[\n",
    "    NRPC.obs.leiden.isin(clusters)\n",
    "].AC\n",
    "adata.obs.loc[adata.obs.scpred_prediction == \"AC\", \"temp\"] = 1.01\n",
    "adata.obs[\"temp\"] = pd.cut(adata.obs[\"temp\"], 100)\n",
    "sc.pl.umap(\n",
    "    adata, color=\"temp\", palette=colors, legend_loc=None, frameon=False, title=\"\"\n",
    ")"
   ]
  },
  {
   "cell_type": "code",
   "execution_count": null,
   "id": "634212e2",
   "metadata": {},
   "outputs": [],
   "source": [
    "sc.pl.umap(NRPC, color=\"PTF1A\", vmax=\"p95\", vmin=\"p0\")"
   ]
  },
  {
   "cell_type": "code",
   "execution_count": null,
   "id": "5100f3ca",
   "metadata": {},
   "outputs": [],
   "source": [
    "sc.pl.umap(NRPC, color=\"NEUROD4\", vmax=\"p95\", vmin=\"p0\")"
   ]
  },
  {
   "cell_type": "code",
   "execution_count": null,
   "id": "9d55e97c",
   "metadata": {},
   "outputs": [],
   "source": [
    "sc.pl.umap(NRPC, color=\"TFAP2A\", vmax=\"p95\", vmin=\"p0\")"
   ]
  },
  {
   "cell_type": "code",
   "execution_count": null,
   "id": "eca003ba",
   "metadata": {},
   "outputs": [],
   "source": [
    "sc.pl.umap(NRPC, color=\"TFAP2B\", vmax=\"p95\", vmin=\"p0\")"
   ]
  },
  {
   "cell_type": "code",
   "execution_count": null,
   "id": "17745b3e",
   "metadata": {},
   "outputs": [],
   "source": [
    "sc.pl.umap(NRPC, color=\"ZEB2\", vmax=\"p99\", vmin=\"p0\")"
   ]
  },
  {
   "cell_type": "code",
   "execution_count": null,
   "id": "1d851295",
   "metadata": {},
   "outputs": [],
   "source": [
    "pd.concat(\n",
    "    [\n",
    "        adata[NRPC[NRPC.obs.leiden.isin(clusters)].obs.index].obs,\n",
    "        adata[adata.obs.scpred_prediction == \"AC\"].obs,\n",
    "    ]\n",
    ").to_csv(\n",
    "    \"/storage/singlecell/zz4/fetal_bash/results/cell_annotation_results/NRPC_AC.csv\"\n",
    ")"
   ]
  },
  {
   "cell_type": "markdown",
   "id": "d0db7edd",
   "metadata": {},
   "source": [
    "# HC"
   ]
  },
  {
   "cell_type": "code",
   "execution_count": null,
   "id": "b6084479",
   "metadata": {},
   "outputs": [],
   "source": [
    "sc.pl.umap(NRPC, color=\"HC\")"
   ]
  },
  {
   "cell_type": "code",
   "execution_count": null,
   "id": "ca996f23",
   "metadata": {},
   "outputs": [],
   "source": [
    "clusters = [\"8\"]\n",
    "adata.obs[\"temp\"] = np.nan\n",
    "adata.obs.loc[NRPC.obs[NRPC.obs.leiden.isin(clusters)].index, \"temp\"] = NRPC.obs[\n",
    "    NRPC.obs.leiden.isin(clusters)\n",
    "].AC\n",
    "adata.obs.loc[adata.obs.scpred_prediction == \"HC\", \"temp\"] = 1.01\n",
    "adata.obs[\"temp\"] = pd.cut(adata.obs[\"temp\"], 100)\n",
    "sc.pl.umap(\n",
    "    adata, color=\"temp\", palette=colors, legend_loc=None, frameon=False, title=\"\"\n",
    ")"
   ]
  },
  {
   "cell_type": "code",
   "execution_count": null,
   "id": "ae51d31b",
   "metadata": {},
   "outputs": [],
   "source": [
    "sc.pl.umap(NRPC, color=\"PROX1\", vmax=\"p95\", vmin=\"p0\")"
   ]
  },
  {
   "cell_type": "code",
   "execution_count": null,
   "id": "02d47c87",
   "metadata": {},
   "outputs": [],
   "source": [
    "sc.pl.umap(NRPC, color=\"LHX1\", vmax=\"p99\", vmin=\"p0\")"
   ]
  },
  {
   "cell_type": "code",
   "execution_count": null,
   "id": "a761dc01",
   "metadata": {},
   "outputs": [],
   "source": [
    "pd.concat(\n",
    "    [\n",
    "        adata[NRPC[NRPC.obs.leiden.isin(clusters)].obs.index].obs,\n",
    "        adata[adata.obs.scpred_prediction == \"HC\"].obs,\n",
    "    ]\n",
    ").to_csv(\n",
    "    \"/storage/singlecell/zz4/fetal_bash/results/cell_annotation_results/NRPC_HC.csv\"\n",
    ")"
   ]
  },
  {
   "cell_type": "markdown",
   "id": "7d2e9765",
   "metadata": {},
   "source": [
    "# BC"
   ]
  },
  {
   "cell_type": "code",
   "execution_count": null,
   "id": "3db4b047",
   "metadata": {
    "scrolled": false
   },
   "outputs": [],
   "source": [
    "sc.pl.umap(NRPC, color=\"BC\")"
   ]
  },
  {
   "cell_type": "code",
   "execution_count": null,
   "id": "a869fbd0",
   "metadata": {},
   "outputs": [],
   "source": [
    "clusters = [\"1\", \"10\"]\n",
    "adata.obs[\"temp\"] = np.nan\n",
    "adata.obs.loc[\n",
    "    NRPC.obs[(NRPC.obs.leiden.isin(clusters)) & (NRPC.obs.BC > 0.05)].index, \"temp\"\n",
    "] = NRPC.obs[NRPC.obs.leiden.isin(clusters)].AC\n",
    "adata.obs.loc[adata.obs.scpred_prediction == \"BC\", \"temp\"] = 1.01\n",
    "adata.obs[\"temp\"] = pd.cut(adata.obs[\"temp\"], 100)\n",
    "sc.pl.umap(\n",
    "    adata, color=\"temp\", palette=colors, legend_loc=None, frameon=False, title=\"\"\n",
    ")"
   ]
  },
  {
   "cell_type": "code",
   "execution_count": null,
   "id": "7b17ef11",
   "metadata": {},
   "outputs": [],
   "source": [
    "sc.pl.umap(NRPC, color=\"OTX2\", vmax=\"p99\", vmin=\"p0\")"
   ]
  },
  {
   "cell_type": "code",
   "execution_count": null,
   "id": "1ef49248",
   "metadata": {},
   "outputs": [],
   "source": [
    "sc.pl.umap(NRPC, color=\"VSX2\", vmax=\"p99\", vmin=\"p0\")"
   ]
  },
  {
   "cell_type": "code",
   "execution_count": null,
   "id": "eea97cd4",
   "metadata": {},
   "outputs": [],
   "source": [
    "sc.pl.umap(NRPC, color=\"ISL1\", vmax=\"p99\", vmin=\"p0\")"
   ]
  },
  {
   "cell_type": "code",
   "execution_count": null,
   "id": "86466273",
   "metadata": {},
   "outputs": [],
   "source": [
    "sc.pl.umap(NRPC, color=\"IRX6\", vmax=\"p99\", vmin=\"p0\")"
   ]
  },
  {
   "cell_type": "code",
   "execution_count": null,
   "id": "4804859a",
   "metadata": {},
   "outputs": [],
   "source": [
    "sc.pl.umap(NRPC, color=\"GSG1\", vmax=\"p99\", vmin=\"p0\")"
   ]
  },
  {
   "cell_type": "code",
   "execution_count": null,
   "id": "f923403c",
   "metadata": {},
   "outputs": [],
   "source": [
    "sc.pl.umap(NRPC, color=\"TRNP1\", vmax=\"p99\", vmin=\"p0\")"
   ]
  },
  {
   "cell_type": "code",
   "execution_count": null,
   "id": "036c2a62",
   "metadata": {},
   "outputs": [],
   "source": [
    "sc.pl.umap(NRPC, color=\"TMEM215\", vmax=\"p99\", vmin=\"p0\")"
   ]
  },
  {
   "cell_type": "code",
   "execution_count": null,
   "id": "800f4fc2",
   "metadata": {},
   "outputs": [],
   "source": [
    "sc.pl.umap(NRPC, color=\"BHLHE22\", vmax=\"p99\", vmin=\"p0\")"
   ]
  },
  {
   "cell_type": "code",
   "execution_count": null,
   "id": "724166c6",
   "metadata": {},
   "outputs": [],
   "source": [
    "sc.pl.umap(NRPC, color=\"FEZF2\", vmax=\"p99\", vmin=\"p0\")"
   ]
  },
  {
   "cell_type": "code",
   "execution_count": null,
   "id": "75b85791",
   "metadata": {},
   "outputs": [],
   "source": [
    "pd.concat(\n",
    "    [\n",
    "        adata[NRPC[NRPC.obs.leiden.isin(clusters)].obs.index].obs,\n",
    "        adata[adata.obs.scpred_prediction == \"BC\"].obs,\n",
    "    ]\n",
    ").to_csv(\n",
    "    \"/storage/singlecell/zz4/fetal_bash/results/cell_annotation_results/NRPC_BC.csv\"\n",
    ")"
   ]
  },
  {
   "cell_type": "markdown",
   "id": "2885d0f4",
   "metadata": {},
   "source": [
    "# Rod"
   ]
  },
  {
   "cell_type": "code",
   "execution_count": null,
   "id": "36b83647",
   "metadata": {
    "scrolled": false
   },
   "outputs": [],
   "source": [
    "sc.pl.umap(NRPC, color=\"Rod\")"
   ]
  },
  {
   "cell_type": "code",
   "execution_count": null,
   "id": "4847959f",
   "metadata": {},
   "outputs": [],
   "source": [
    "clusters = [\"1\", \"2\"]\n",
    "adata.obs[\"temp\"] = np.nan\n",
    "adata.obs.loc[\n",
    "    NRPC.obs[(NRPC.obs.leiden.isin(clusters)) & (NRPC.obs.Rod > 0.5)].index, \"temp\"\n",
    "] = NRPC.obs[NRPC.obs.leiden.isin(clusters)].AC\n",
    "adata.obs.loc[adata.obs.scpred_prediction == \"BC\", \"temp\"] = 1.01\n",
    "adata.obs[\"temp\"] = pd.cut(adata.obs[\"temp\"], 100)\n",
    "sc.pl.umap(\n",
    "    adata, color=\"temp\", palette=colors, legend_loc=None, frameon=False, title=\"\"\n",
    ")"
   ]
  },
  {
   "cell_type": "code",
   "execution_count": null,
   "id": "adde92ff",
   "metadata": {},
   "outputs": [],
   "source": [
    "sc.pl.umap(NRPC, color=\"NR2E3\", vmax=\"p99\", vmin=\"p0\")"
   ]
  },
  {
   "cell_type": "code",
   "execution_count": null,
   "id": "f58aa820",
   "metadata": {},
   "outputs": [],
   "source": [
    "pd.concat(\n",
    "    [\n",
    "        adata[NRPC[NRPC.obs.leiden.isin(clusters)].obs.index].obs,\n",
    "        adata[adata.obs.scpred_prediction == \"Rod\"].obs,\n",
    "    ]\n",
    ").to_csv(\n",
    "    \"/storage/singlecell/zz4/fetal_bash/results/cell_annotation_results/NRPC_Rod.csv\"\n",
    ")"
   ]
  },
  {
   "cell_type": "markdown",
   "id": "239651d5",
   "metadata": {},
   "source": [
    "# Cone"
   ]
  },
  {
   "cell_type": "code",
   "execution_count": null,
   "id": "97a78626",
   "metadata": {
    "scrolled": false
   },
   "outputs": [],
   "source": [
    "sc.pl.umap(NRPC, color=\"Cone\")"
   ]
  },
  {
   "cell_type": "code",
   "execution_count": null,
   "id": "93004822",
   "metadata": {},
   "outputs": [],
   "source": [
    "clusters = [\"17\", \"13\"]\n",
    "adata.obs[\"temp\"] = np.nan\n",
    "adata.obs.loc[NRPC.obs[NRPC.obs.leiden.isin(clusters)].index, \"temp\"] = NRPC.obs[\n",
    "    NRPC.obs.leiden.isin(clusters)\n",
    "].AC\n",
    "adata.obs.loc[adata.obs.scpred_prediction == \"Cone\", \"temp\"] = 1.01\n",
    "adata.obs[\"temp\"] = pd.cut(adata.obs[\"temp\"], 100)\n",
    "sc.pl.umap(\n",
    "    adata, color=\"temp\", palette=colors, legend_loc=None, frameon=False, title=\"\"\n",
    ")"
   ]
  },
  {
   "cell_type": "code",
   "execution_count": null,
   "id": "d94183b2",
   "metadata": {
    "scrolled": false
   },
   "outputs": [],
   "source": [
    "sc.pl.umap(NRPC, color=\"OTX2\", vmax=\"p99\", vmin=\"p0\")"
   ]
  },
  {
   "cell_type": "code",
   "execution_count": null,
   "id": "cfeca9ac",
   "metadata": {},
   "outputs": [],
   "source": [
    "sc.pl.umap(NRPC, color=\"CRX\", vmax=\"p99\", vmin=\"p0\")"
   ]
  },
  {
   "cell_type": "code",
   "execution_count": null,
   "id": "566f1765",
   "metadata": {},
   "outputs": [],
   "source": [
    "sc.pl.umap(NRPC, color=\"PRDM1\", vmax=\"p99\", vmin=\"p0\")"
   ]
  },
  {
   "cell_type": "code",
   "execution_count": null,
   "id": "f3b54b78",
   "metadata": {},
   "outputs": [],
   "source": [
    "pd.concat(\n",
    "    [\n",
    "        adata[NRPC[NRPC.obs.leiden.isin(clusters)].obs.index].obs,\n",
    "        adata[adata.obs.scpred_prediction == \"Cone\"].obs,\n",
    "    ]\n",
    ").to_csv(\n",
    "    \"/storage/singlecell/zz4/fetal_bash/results/cell_annotation_results/NRPC_Cone.csv\"\n",
    ")"
   ]
  },
  {
   "cell_type": "markdown",
   "id": "8f5b81b2",
   "metadata": {},
   "source": [
    "# RGC"
   ]
  },
  {
   "cell_type": "code",
   "execution_count": null,
   "id": "99c4fd0a",
   "metadata": {},
   "outputs": [],
   "source": [
    "sc.pl.umap(NRPC, color=\"RGC\")"
   ]
  },
  {
   "cell_type": "code",
   "execution_count": null,
   "id": "b9ba0a8f",
   "metadata": {},
   "outputs": [],
   "source": [
    "clusters = [\"12\"]\n",
    "adata.obs[\"temp\"] = np.nan\n",
    "adata.obs.loc[NRPC.obs[NRPC.obs.leiden.isin(clusters)].index, \"temp\"] = NRPC.obs[\n",
    "    NRPC.obs.leiden.isin(clusters)\n",
    "].AC\n",
    "adata.obs.loc[adata.obs.scpred_prediction == \"RGC\", \"temp\"] = 1.01\n",
    "adata.obs[\"temp\"] = pd.cut(adata.obs[\"temp\"], 100)\n",
    "sc.pl.umap(\n",
    "    adata, color=\"temp\", palette=colors, legend_loc=None, frameon=False, title=\"\"\n",
    ")"
   ]
  },
  {
   "cell_type": "code",
   "execution_count": null,
   "id": "52a1bd1b",
   "metadata": {},
   "outputs": [],
   "source": [
    "sc.pl.umap(NRPC, color=\"ATOH7\", vmax=\"p99\", vmin=\"p0\")"
   ]
  },
  {
   "cell_type": "code",
   "execution_count": null,
   "id": "de89eaaf",
   "metadata": {},
   "outputs": [],
   "source": [
    "sc.pl.umap(NRPC, color=\"POU4F2\", vmax=\"p99\", vmin=\"p0\")"
   ]
  },
  {
   "cell_type": "code",
   "execution_count": null,
   "id": "66a0092a",
   "metadata": {},
   "outputs": [],
   "source": [
    "pd.concat(\n",
    "    [\n",
    "        adata[NRPC[NRPC.obs.leiden.isin(clusters)].obs.index].obs,\n",
    "        adata[adata.obs.scpred_prediction == \"RGC\"].obs,\n",
    "    ]\n",
    ").to_csv(\n",
    "    \"/storage/singlecell/zz4/fetal_bash/results/cell_annotation_results/NRPC_RGC.csv\"\n",
    ")"
   ]
  }
 ],
 "metadata": {
  "kernelspec": {
   "display_name": "Python 3 (ipykernel)",
   "language": "python",
   "name": "python3"
  },
  "language_info": {
   "codemirror_mode": {
    "name": "ipython",
    "version": 3
   },
   "file_extension": ".py",
   "mimetype": "text/x-python",
   "name": "python",
   "nbconvert_exporter": "python",
   "pygments_lexer": "ipython3",
   "version": "3.10.9 (main, Dec 15 2022, 17:11:09) [Clang 14.0.0 (clang-1400.0.29.202)]"
  },
  "vscode": {
   "interpreter": {
    "hash": "b0fa6594d8f4cbf19f97940f81e996739fb7646882a419484c72d19e05852a7e"
   }
  }
 },
 "nbformat": 4,
 "nbformat_minor": 5
}
