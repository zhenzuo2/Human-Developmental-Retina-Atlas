{
 "cells": [
  {
   "cell_type": "code",
   "execution_count": null,
   "id": "286f960b-5efa-4f4d-986a-c0ec2bb166ba",
   "metadata": {
    "tags": []
   },
   "outputs": [],
   "source": [
    "import scanpy as sc\n",
    "import pandas as pd"
   ]
  },
  {
   "cell_type": "code",
   "execution_count": null,
   "id": "6d9a55b9-a036-40ae-a89a-f6d607eb2c8a",
   "metadata": {
    "tags": []
   },
   "outputs": [],
   "source": [
    "adata =sc.read(\"merged_raw_filtered_umap_10000_woadult_MG.h5ad\")"
   ]
  },
  {
   "cell_type": "code",
   "execution_count": null,
   "id": "634e4250-f69b-4b2f-8f3c-ae3dfc0d9460",
   "metadata": {
    "tags": []
   },
   "outputs": [],
   "source": [
    "meta = pd.read_csv(\"NRPC_Cone.csv\")"
   ]
  },
  {
   "cell_type": "code",
   "execution_count": null,
   "id": "8de84307-254b-4b27-873d-11373f9243a4",
   "metadata": {
    "tags": []
   },
   "outputs": [],
   "source": [
    "adata = adata[meta['Unnamed: 0'].values,]\n",
    "adata"
   ]
  },
  {
   "cell_type": "code",
   "execution_count": null,
   "id": "e7c8cce2-9049-48a9-976f-cf7c35970d90",
   "metadata": {
    "tags": []
   },
   "outputs": [],
   "source": [
    "sc.pp.filter_genes(adata, min_cells=600)"
   ]
  },
  {
   "cell_type": "code",
   "execution_count": null,
   "id": "f9dc5b93-e008-4f26-9bf9-c399ac9d0abe",
   "metadata": {
    "tags": []
   },
   "outputs": [],
   "source": [
    "adata"
   ]
  },
  {
   "cell_type": "code",
   "execution_count": null,
   "id": "6c632be5-67aa-4eab-8160-75821829e8f9",
   "metadata": {
    "tags": []
   },
   "outputs": [],
   "source": [
    "sc.pp.highly_variable_genes(\n",
    "    adata, flavor=\"seurat_v3\", n_top_genes=5000, subset=True\n",
    ")\n",
    "sc.pp.normalize_per_cell(adata,)\n",
    "sc.pp.log1p(adata)"
   ]
  },
  {
   "cell_type": "code",
   "execution_count": null,
   "id": "a822c973-5958-4173-95cd-840f296757b4",
   "metadata": {
    "tags": []
   },
   "outputs": [],
   "source": [
    "sc.tl.rank_genes_groups(adata, groupby=\"Region\")"
   ]
  },
  {
   "cell_type": "code",
   "execution_count": null,
   "id": "8ebbc11c-7d07-4e8e-9860-f5aa98f45c1f",
   "metadata": {
    "tags": []
   },
   "outputs": [],
   "source": [
    "res = sc.get.rank_genes_groups_df(adata,group=\"Macula\")"
   ]
  },
  {
   "cell_type": "code",
   "execution_count": null,
   "id": "743b5a40-2866-476b-85fc-6d4d31e9702b",
   "metadata": {
    "tags": []
   },
   "outputs": [],
   "source": [
    "rpe = pd.read_excel(\"summary_DEG_comparison_RPE_v2.xlsx\",sheet_name=1)"
   ]
  },
  {
   "cell_type": "code",
   "execution_count": null,
   "id": "e0d7c228-c6d9-4d93-95fe-d19964116a00",
   "metadata": {
    "tags": []
   },
   "outputs": [],
   "source": [
    "rpe.index = rpe['Unnamed: 0']"
   ]
  },
  {
   "cell_type": "code",
   "execution_count": null,
   "id": "f3b0d324-4c9e-4ec4-9626-2dccc7415b7d",
   "metadata": {
    "tags": []
   },
   "outputs": [],
   "source": [
    "rpe"
   ]
  },
  {
   "cell_type": "code",
   "execution_count": null,
   "id": "6f3076bf-ff76-4aa4-b996-101b5073c060",
   "metadata": {
    "tags": []
   },
   "outputs": [],
   "source": [
    "res.index = res.names"
   ]
  },
  {
   "cell_type": "code",
   "execution_count": null,
   "id": "3c85f7ae-0fd3-48b9-83e0-bcebeba48144",
   "metadata": {
    "tags": []
   },
   "outputs": [],
   "source": [
    "common_genes = [x for x in res.index if x in rpe.index]\n",
    "res = res.loc[common_genes,:]\n",
    "rpe = rpe.loc[common_genes,:]"
   ]
  },
  {
   "cell_type": "code",
   "execution_count": null,
   "id": "4d6d455f-3ad1-428d-b3d4-066cd7aaad95",
   "metadata": {
    "tags": []
   },
   "outputs": [],
   "source": [
    "res[\"RPE_log2FoldChange\"] = rpe.log2FoldChange"
   ]
  },
  {
   "cell_type": "code",
   "execution_count": null,
   "id": "4ece50d1-f865-475a-8a10-fe13f761775b",
   "metadata": {
    "tags": []
   },
   "outputs": [],
   "source": [
    "import seaborn as sns\n",
    "import matplotlib.pyplot as plt\n",
    "ax = sns.scatterplot(data=res[abs(res.logfoldchanges)>1], x=\"RPE_log2FoldChange\", y=\"logfoldchanges\",)\n",
    "plt.title('Example Plot')\n",
    "# Set x-axis label\n",
    "plt.xlabel('Sepal Length')\n",
    "# Set y-axis label\n",
    "plt.ylabel('Sepal Width')\n",
    "\n",
    "\n",
    "def label_point(x, y, val, ax):\n",
    "    a = pd.concat({'x': x, 'y': y, 'val': val}, axis=1)\n",
    "    for i, point in a.iterrows():\n",
    "        ax.text(point['x']+.02, point['y'], str(point['val']))\n",
    "\n",
    "label_point(res.RPE_log2FoldChange, res.logfoldchanges,res.names, plt.gca())  "
   ]
  },
  {
   "cell_type": "code",
   "execution_count": null,
   "id": "6c96d92c-42cc-445b-84ef-8f546218625e",
   "metadata": {
    "tags": []
   },
   "outputs": [],
   "source": [
    "res.to_csv(\"test.csv\")"
   ]
  },
  {
   "cell_type": "code",
   "execution_count": null,
   "id": "8c0f5b42-82cf-45c4-b91d-451df7965608",
   "metadata": {
    "tags": []
   },
   "outputs": [],
   "source": [
    "set(res.loc[(res.logfoldchanges>0)&(res.RPE_log2FoldChange>0),:].index)"
   ]
  },
  {
   "cell_type": "code",
   "execution_count": null,
   "id": "12d26a52-5283-44a1-9a3f-fac726cc88ca",
   "metadata": {
    "tags": []
   },
   "outputs": [],
   "source": [
    "for gene in set(res.loc[(res.logfoldchanges>1)&(res.RPE_log2FoldChange>0),:].index):\n",
    "    print(\"Macula\")\n",
    "    sc.pl.umap(adata[adata.obs.Region == \"Macula\"],color = gene)\n",
    "    print(\"Peripheral\")\n",
    "    sc.pl.umap(adata[adata.obs.Region == \"Peripheral\"],color = gene)"
   ]
  },
  {
   "cell_type": "code",
   "execution_count": null,
   "id": "1f89658f-591b-441b-92bf-810afabd4f0e",
   "metadata": {
    "tags": []
   },
   "outputs": [],
   "source": [
    "for gene in [\"TRPM6\"]:\n",
    "    print(\"Macula\")\n",
    "    sc.pl.umap(adata[adata.obs.Region == \"Macula\"],color = gene)\n",
    "    print(\"Peripheral\")\n",
    "    sc.pl.umap(adata[adata.obs.Region == \"Peripheral\"],color = gene)"
   ]
  },
  {
   "cell_type": "code",
   "execution_count": null,
   "id": "4330a2e9-70ec-4537-98ab-87bef30d8d1d",
   "metadata": {
    "tags": []
   },
   "outputs": [],
   "source": [
    "sc.pl.rank_genes_groups_violin(adata, gene_names=['TRPM6',\"MAP2\",\"FGF14\",\"GRID2\"])"
   ]
  },
  {
   "cell_type": "code",
   "execution_count": null,
   "id": "93e39f33-a76a-4839-bcb0-e1d7f2b680e1",
   "metadata": {
    "tags": []
   },
   "outputs": [],
   "source": [
    "adata_result =sc.read(\"merged_raw_filtered_umap_10000_woadult_MG.h5ad\")\n",
    "sc.pp.normalize_per_cell(adata_result)\n",
    "sc.pp.log1p(adata_result)"
   ]
  },
  {
   "cell_type": "code",
   "execution_count": null,
   "id": "cd64820e-0213-46f5-b4f8-7e62cffdead7",
   "metadata": {
    "tags": []
   },
   "outputs": [],
   "source": [
    "sc.pl.umap(adata_result[adata_result.obs.Region == \"Macula\"],color = \"TRPM7\",vmax = 1,vmin = 0.5)\n",
    "sc.pl.umap(adata_result[adata_result.obs.Region == \"Peripheral\"],color = \"TRPM7\",vmax = 1,vmin = 0.5)"
   ]
  }
 ],
 "metadata": {
  "kernelspec": {
   "display_name": "Python 3 (ipykernel)",
   "language": "python",
   "name": "python3"
  },
  "language_info": {
   "codemirror_mode": {
    "name": "ipython",
    "version": 3
   },
   "file_extension": ".py",
   "mimetype": "text/x-python",
   "name": "python",
   "nbconvert_exporter": "python",
   "pygments_lexer": "ipython3",
   "version": "3.9.16"
  }
 },
 "nbformat": 4,
 "nbformat_minor": 5
}
